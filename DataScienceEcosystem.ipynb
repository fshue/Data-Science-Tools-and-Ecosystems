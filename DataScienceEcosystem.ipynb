{
 "cells": [
  {
   "cell_type": "markdown",
   "id": "d17854a9-f60f-464f-a0ae-b1f3dc156e08",
   "metadata": {},
   "source": [
    "# Data Science Tools and Ecosystem"
   ]
  },
  {
   "cell_type": "markdown",
   "id": "b245ee56-5ed6-483d-8b39-1f1479b68493",
   "metadata": {},
   "source": [
    "In this notebook, Data Science Tools and Ecosystem are summarized."
   ]
  },
  {
   "cell_type": "markdown",
   "id": "94668eeb-6dda-409d-bb64-8bf7fc69ca3f",
   "metadata": {
    "tags": []
   },
   "source": [
    "**Objectives**\n",
    "- Create Markdown cells\n",
    "- Create and Execute Code cells\n",
    "- List popular languages for Data Science\n",
    "- Perform simple arithmetic"
   ]
  },
  {
   "cell_type": "markdown",
   "id": "9f006f17-fa24-4e55-86c9-a59167a791f3",
   "metadata": {},
   "source": [
    "Some of the popular languages that Data Scientists use are:\n",
    "1. Python\n",
    "2. R\n",
    "3. SQL"
   ]
  },
  {
   "cell_type": "markdown",
   "id": "ca12336f-f5ce-4a6e-aee8-ebdbeaecec86",
   "metadata": {},
   "source": [
    "Some of the commonly used libraries used by Data Scientists include:\n",
    "1. NumPy\n",
    "2. Matplotlib\n",
    "3. Pandas"
   ]
  },
  {
   "cell_type": "markdown",
   "id": "bd16fb49-ce11-415d-94e2-368bba86a828",
   "metadata": {},
   "source": [
    "| Data Science Tools |\n",
    "|--------------------|\n",
    "| R Studio |\n",
    "| Jupyter Notebook |\n",
    "| Anaconda |"
   ]
  },
  {
   "cell_type": "markdown",
   "id": "f7920bfd-3fbb-4068-91f0-2729a7f62860",
   "metadata": {},
   "source": [
    "### Below are few examples of evaluating arithmetic expression examples"
   ]
  },
  {
   "cell_type": "code",
   "execution_count": 4,
   "id": "071e2cce-2821-468b-9535-805fd09adea8",
   "metadata": {
    "tags": []
   },
   "outputs": [
    {
     "data": {
      "text/plain": [
       "17"
      ]
     },
     "execution_count": 4,
     "metadata": {},
     "output_type": "execute_result"
    }
   ],
   "source": [
    "# This is a simple arithmetic expression to multiply then add integers\n",
    "(3*4)+5"
   ]
  },
  {
   "cell_type": "code",
   "execution_count": 5,
   "id": "f9223aff-fcb8-4b2a-a6e8-074ecb79c150",
   "metadata": {
    "tags": []
   },
   "outputs": [
    {
     "data": {
      "text/plain": [
       "3.3333333333333335"
      ]
     },
     "execution_count": 5,
     "metadata": {},
     "output_type": "execute_result"
    }
   ],
   "source": [
    "# This will convert 200 minutes to hours by dividing minutes by 60\n",
    "200/60"
   ]
  },
  {
   "cell_type": "markdown",
   "id": "e42feb76-b90b-4196-b4e6-247d8a663713",
   "metadata": {},
   "source": [
    "## Author\n",
    "FS HUE (19 Dec 2023)"
   ]
  },
  {
   "cell_type": "code",
   "execution_count": null,
   "id": "c07b983a-9342-45b4-b5b9-de22cafd3c41",
   "metadata": {},
   "outputs": [],
   "source": []
  }
 ],
 "metadata": {
  "kernelspec": {
   "display_name": "Python",
   "language": "python",
   "name": "conda-env-python-py"
  },
  "language_info": {
   "codemirror_mode": {
    "name": "ipython",
    "version": 3
   },
   "file_extension": ".py",
   "mimetype": "text/x-python",
   "name": "python",
   "nbconvert_exporter": "python",
   "pygments_lexer": "ipython3",
   "version": "3.7.12"
  }
 },
 "nbformat": 4,
 "nbformat_minor": 5
}
